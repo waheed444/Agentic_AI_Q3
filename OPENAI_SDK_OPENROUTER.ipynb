{
  "nbformat": 4,
  "nbformat_minor": 0,
  "metadata": {
    "colab": {
      "provenance": [],
      "include_colab_link": true
    },
    "kernelspec": {
      "name": "python3",
      "display_name": "Python 3"
    },
    "language_info": {
      "name": "python"
    }
  },
  "cells": [
    {
      "cell_type": "markdown",
      "metadata": {
        "id": "view-in-github",
        "colab_type": "text"
      },
      "source": [
        "<a href=\"https://colab.research.google.com/github/waheed444/Agentic_AI_Q3/blob/main/OPENAI_SDK_OPENROUTER.ipynb\" target=\"_parent\"><img src=\"https://colab.research.google.com/assets/colab-badge.svg\" alt=\"Open In Colab\"/></a>"
      ]
    },
    {
      "cell_type": "markdown",
      "source": [
        "# Use OpenRouter With OpenAI Agents SDK"
      ],
      "metadata": {
        "id": "o92NPvIPpmCv"
      }
    },
    {
      "cell_type": "markdown",
      "source": [
        "Setup Prerequisite:\n",
        "\n",
        "1. [Signup at OpenRouter](https://openrouter.ai/)\n",
        "2. [Create an API Key](https://openrouter.ai/settings/keys)\n",
        "2. Select a Free Model (you can continue as we are using a free model here)"
      ],
      "metadata": {
        "id": "l5oT3E8gqY_O"
      }
    },
    {
      "cell_type": "code",
      "source": [
        "# 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"
      ],
      "metadata": {
        "id": "sFYp61xNs-tj"
      },
      "execution_count": null,
      "outputs": []
    },
    {
      "cell_type": "markdown",
      "source": [
        "## Free and Paid Models"
      ],
      "metadata": {
        "id": "-Zh5JPz1qLbD"
      }
    },
    {
      "cell_type": "markdown",
      "source": [
        "The OpenRouter supports the latest DeepSeek V3 0324 and 50+ other models for free. Most of them support the defacto standard: OpenAI Chat Completion API.\n",
        "\n",
        "\n",
        "If you are using a free model variant (with an ID ending in :free), then you will be limited to 20 requests per minute and 200 requests per day.\n",
        "\n",
        "**See all Models List: https://openrouter.ai/models**\n",
        "\n",
        "Note: OpenRouter do not charge anything extra at inference time."
      ],
      "metadata": {
        "id": "3NksiafzqSg7"
      }
    },
    {
      "cell_type": "markdown",
      "source": [
        "## Rate Limiting and Crediting"
      ],
      "metadata": {
        "id": "Krf3ozmkpsVs"
      }
    },
    {
      "cell_type": "markdown",
      "source": [
        "There are a few rate limits that apply to certain types of requests, regardless of account status:\n",
        "\n",
        "- Free limit: If you are using a free model variant (with an ID ending in :free), then you will be limited to 20 requests per minute and 200 requests per day.\n",
        "\n",
        "If your account has a negative credit balance, you may see 402 errors, including for free models. Adding credits to put your balance above zero allows you to use those models again.\n",
        "\n",
        "[Reference](https://openrouter.ai/docs/api-reference/limits)"
      ],
      "metadata": {
        "id": "WhcFykdIqKI4"
      }
    },
    {
      "cell_type": "markdown",
      "source": [
        "## Install OpenAI Agents Dep."
      ],
      "metadata": {
        "id": "GqX_s5idrryf"
      }
    },
    {
      "cell_type": "code",
      "execution_count": 1,
      "metadata": {
        "id": "7teAe2rONlBe",
        "colab": {
          "base_uri": "https://localhost:8080/"
        },
        "outputId": "bf58affb-f299-4150-ec28-aba82cadf1a4"
      },
      "outputs": [
        {
          "output_type": "stream",
          "name": "stdout",
          "text": [
            "\u001b[?25l   \u001b[90m━━━━━━━━━━━━━━━━━━━━━━━━━━━━━━━━━━━━━━━━\u001b[0m \u001b[32m0.0/108.3 kB\u001b[0m \u001b[31m?\u001b[0m eta \u001b[36m-:--:--\u001b[0m\r\u001b[2K   \u001b[90m━━━━━━━━━━━━━━━━━━━━━━━━━━━━━━━━━━━━━━━━\u001b[0m \u001b[32m108.3/108.3 kB\u001b[0m \u001b[31m3.5 MB/s\u001b[0m eta \u001b[36m0:00:00\u001b[0m\n",
            "\u001b[?25h\u001b[?25l   \u001b[90m━━━━━━━━━━━━━━━━━━━━━━━━━━━━━━━━━━━━━━━━\u001b[0m \u001b[32m0.0/129.2 kB\u001b[0m \u001b[31m?\u001b[0m eta \u001b[36m-:--:--\u001b[0m\r\u001b[2K   \u001b[91m━━━━━━━━━━━━━━━━━━━━━━━━━━━━━━━━━━━━━\u001b[0m\u001b[90m╺\u001b[0m\u001b[90m━\u001b[0m \u001b[32m122.9/129.2 kB\u001b[0m \u001b[31m128.5 MB/s\u001b[0m eta \u001b[36m0:00:01\u001b[0m\r\u001b[2K   \u001b[90m━━━━━━━━━━━━━━━━━━━━━━━━━━━━━━━━━━━━━━━━\u001b[0m \u001b[32m129.2/129.2 kB\u001b[0m \u001b[31m3.7 MB/s\u001b[0m eta \u001b[36m0:00:00\u001b[0m\n",
            "\u001b[2K   \u001b[90m━━━━━━━━━━━━━━━━━━━━━━━━━━━━━━━━━━━━━━━━\u001b[0m \u001b[32m76.1/76.1 kB\u001b[0m \u001b[31m3.0 MB/s\u001b[0m eta \u001b[36m0:00:00\u001b[0m\n",
            "\u001b[2K   \u001b[90m━━━━━━━━━━━━━━━━━━━━━━━━━━━━━━━━━━━━━━━━\u001b[0m \u001b[32m44.4/44.4 kB\u001b[0m \u001b[31m1.6 MB/s\u001b[0m eta \u001b[36m0:00:00\u001b[0m\n",
            "\u001b[2K   \u001b[90m━━━━━━━━━━━━━━━━━━━━━━━━━━━━━━━━━━━━━━━━\u001b[0m \u001b[32m72.0/72.0 kB\u001b[0m \u001b[31m3.7 MB/s\u001b[0m eta \u001b[36m0:00:00\u001b[0m\n",
            "\u001b[2K   \u001b[90m━━━━━━━━━━━━━━━━━━━━━━━━━━━━━━━━━━━━━━━━\u001b[0m \u001b[32m62.5/62.5 kB\u001b[0m \u001b[31m2.7 MB/s\u001b[0m eta \u001b[36m0:00:00\u001b[0m\n",
            "\u001b[?25h"
          ]
        }
      ],
      "source": [
        "!pip install -Uq openai-agents"
      ]
    },
    {
      "cell_type": "markdown",
      "source": [
        "## Running Nested Async Event Loops in Python"
      ],
      "metadata": {
        "id": "13b7XW74LaeC"
      }
    },
    {
      "cell_type": "code",
      "source": [
        "import nest_asyncio\n",
        "nest_asyncio.apply()"
      ],
      "metadata": {
        "id": "z3_PWpn4OIyT"
      },
      "execution_count": 12,
      "outputs": []
    },
    {
      "cell_type": "markdown",
      "source": [
        "## Configure OpenRouter API's"
      ],
      "metadata": {
        "id": "ZTOibVJuN_pi"
      }
    },
    {
      "cell_type": "code",
      "source": [
        "from google.colab import userdata\n",
        "\n",
        "OPENROUTER_API_KEY = userdata.get(\"OpenRouter\")"
      ],
      "metadata": {
        "id": "zvmgohqY0-Wm"
      },
      "execution_count": 4,
      "outputs": []
    },
    {
      "cell_type": "markdown",
      "source": [
        "## Select Base_URL & Model\n",
        "\n"
      ],
      "metadata": {
        "id": "7OY7KMYbKmxI"
      }
    },
    {
      "cell_type": "code",
      "source": [
        "#Reference: https://openrouter.ai/docs/quickstart\n",
        "\n",
        "BASE_URL = \"https://openrouter.ai/api/v1\"\n",
        "MODEL = \"mistralai/mistral-7b-instruct:free\"\n",
        "\n",
        "# Some other free models on 26th March:\n",
        "# https://openrouter.ai/deepseek/deepseek-chat-v3-0324:free\n",
        "# https://openrouter.ai/google/gemini-2.5-pro-exp-03-25:free"
      ],
      "metadata": {
        "id": "DeTqCZKGlVk_"
      },
      "execution_count": 5,
      "outputs": []
    },
    {
      "cell_type": "markdown",
      "source": [
        "## 1. Using the OpenRouter API directly"
      ],
      "metadata": {
        "id": "IyWF4XNPtI7f"
      }
    },
    {
      "cell_type": "code",
      "source": [
        "import requests\n",
        "import json\n",
        "\n",
        "response = requests.post(\n",
        "  url=f\"{BASE_URL}/chat/completions\",\n",
        "  headers={\n",
        "    \"Authorization\": f\"Bearer {OPENROUTER_API_KEY}\",\n",
        "  },\n",
        "  data=json.dumps({\n",
        "    \"model\": MODEL,\n",
        "    \"messages\": [\n",
        "      {\n",
        "        \"role\": \"user\",\n",
        "        \"content\": \"Hi, there\"\n",
        "      }\n",
        "    ]\n",
        "  })\n",
        ")\n",
        "\n",
        "print(response.json())"
      ],
      "metadata": {
        "colab": {
          "base_uri": "https://localhost:8080/"
        },
        "id": "e0if6eGutM9h",
        "outputId": "a90a938c-3fb0-4a7f-b5e9-dd7480d2fa85"
      },
      "execution_count": 6,
      "outputs": [
        {
          "output_type": "stream",
          "name": "stdout",
          "text": [
            "{'id': 'gen-1745168850-eXBSVgBUJ61yHacmPhXB', 'provider': 'DeepInfra', 'model': 'mistralai/mistral-7b-instruct', 'object': 'chat.completion', 'created': 1745168850, 'choices': [{'logprobs': None, 'finish_reason': 'stop', 'native_finish_reason': 'stop', 'index': 0, 'message': {'role': 'assistant', 'content': \" Hello! How can I help you today? Do you have any specific questions or topics you'd like to chat about? I'm here to help with a wide range of subjects, from answering questions and providing explanations to sharing fun facts and engaging in friendly conversation. What can I help you with?\", 'refusal': None, 'reasoning': None}}], 'usage': {'prompt_tokens': 8, 'completion_tokens': 62, 'total_tokens': 70}}\n"
          ]
        }
      ]
    },
    {
      "cell_type": "code",
      "source": [
        "data = response.json()\n",
        "data['choices'][0]['message']['content']"
      ],
      "metadata": {
        "colab": {
          "base_uri": "https://localhost:8080/",
          "height": 53
        },
        "id": "mv3B6_oRto5S",
        "outputId": "36664b15-ce1c-4cd9-b8ff-1aff2f6f435d"
      },
      "execution_count": 7,
      "outputs": [
        {
          "output_type": "execute_result",
          "data": {
            "text/plain": [
              "\" Hello! How can I help you today? Do you have any specific questions or topics you'd like to chat about? I'm here to help with a wide range of subjects, from answering questions and providing explanations to sharing fun facts and engaging in friendly conversation. What can I help you with?\""
            ],
            "application/vnd.google.colaboratory.intrinsic+json": {
              "type": "string"
            }
          },
          "metadata": {},
          "execution_count": 7
        }
      ]
    },
    {
      "cell_type": "markdown",
      "source": [
        "## 2. Using OpenAI Agents SDK"
      ],
      "metadata": {
        "id": "E_jESzWAsu91"
      }
    },
    {
      "cell_type": "code",
      "source": [
        "import asyncio\n",
        "from openai import AsyncOpenAI\n",
        "from agents import Agent, OpenAIChatCompletionsModel, Runner, set_tracing_disabled\n",
        "\n",
        "client = AsyncOpenAI(\n",
        "    api_key=OPENROUTER_API_KEY,\n",
        "    base_url=BASE_URL\n",
        ")\n",
        "\n",
        "set_tracing_disabled(disabled=True)\n",
        "\n",
        "async def main():\n",
        "    # This agent will use the custom LLM provider\n",
        "    agent = Agent(\n",
        "        name=\"Assistant\",\n",
        "        instructions=\"You only respond in English\",\n",
        "        model=OpenAIChatCompletionsModel(model=MODEL, openai_client=client),\n",
        "    )\n",
        "\n",
        "    result = await Runner.run(\n",
        "        agent,\n",
        "        \"Give me the list of most Top 10 skills in 2025.\",\n",
        "    )\n",
        "    print(result.final_output)\n",
        "\n",
        "\n",
        "if __name__ == \"__main__\":\n",
        "    asyncio.run(main())"
      ],
      "metadata": {
        "colab": {
          "base_uri": "https://localhost:8080/"
        },
        "id": "xrJVAu7cwe5u",
        "outputId": "bb220deb-11ed-483d-fbad-609f862d2a91"
      },
      "execution_count": 14,
      "outputs": [
        {
          "output_type": "stream",
          "name": "stdout",
          "text": [
            " Predicting the top skills in 2025 can be challenging due to the rapid pace of technological advancement, but based on current trends, here are ten skills that are likely to be highly valuable:\n",
            "\n",
            "1. Artificial Intelligence and Machine Learning: As AI and ML continue to shape various industries, understanding how to develop, implement, and manage these technologies will be crucial.\n",
            "\n",
            "2. Cybersecurity: With the increasing amount of data being stored and transferred digitally, the need for experts who can protect networks and digital assets will grow.\n",
            "\n",
            "3. Data Science: The ability to collect, analyze, and interpret large data sets will be key in making informed decisions across various fields.\n",
            "\n",
            "4. Cloud Computing: Skills in managing and optimizing cloud-based services will be in high demand as more businesses move their operations online.\n",
            "\n",
            "5. Internet of Things (IoT): As IoT devices become more prevalent, understanding how to design, manage, and secure these connected devices will be important.\n",
            "\n",
            "6. Blockchain: With its potential for increased security and transparency, blockchain technology is expected to expand into many industries, creating a need for experts.\n",
            "\n",
            "7. Augmented Reality (AR) and Virtual Reality (VR): As AR and VR technologies continue to advance, professionals skilled in these areas will be sought after for creating immersive user experiences.\n",
            "\n",
            "8. Green Energy Technologies: With growing emphasis on sustainability, skills in renewable energy technologies, energy efficiency, and environmentally friendly manufacturing methods will be valuable.\n",
            "\n",
            "9. Biotechnology: As biotech advances, skills in genetic engineering, gene editing, and biomaterials could lead to breakthroughs in healthcare, agriculture, and other fields.\n",
            "\n",
            "10. Soft Skills: Despite technological advancements, employers will still value strong communication, problem-solving, and adaptability skills, as these are crucial for working effectively in teams and managing change.\n",
            "\n",
            "This list is not exhaustive, and it's essential to keep learning and staying updated on emerging trends and technologies to remain competitive in the job market.\n"
          ]
        }
      ]
    },
    {
      "cell_type": "code",
      "source": [
        "response.json()"
      ],
      "metadata": {
        "id": "x3omnVOp0feN",
        "outputId": "d28351e6-96c9-4470-c645-df393c5f890f",
        "colab": {
          "base_uri": "https://localhost:8080/"
        }
      },
      "execution_count": 11,
      "outputs": [
        {
          "output_type": "execute_result",
          "data": {
            "text/plain": [
              "{'id': 'gen-1745168850-eXBSVgBUJ61yHacmPhXB',\n",
              " 'provider': 'DeepInfra',\n",
              " 'model': 'mistralai/mistral-7b-instruct',\n",
              " 'object': 'chat.completion',\n",
              " 'created': 1745168850,\n",
              " 'choices': [{'logprobs': None,\n",
              "   'finish_reason': 'stop',\n",
              "   'native_finish_reason': 'stop',\n",
              "   'index': 0,\n",
              "   'message': {'role': 'assistant',\n",
              "    'content': \" Hello! How can I help you today? Do you have any specific questions or topics you'd like to chat about? I'm here to help with a wide range of subjects, from answering questions and providing explanations to sharing fun facts and engaging in friendly conversation. What can I help you with?\",\n",
              "    'refusal': None,\n",
              "    'reasoning': None}}],\n",
              " 'usage': {'prompt_tokens': 8, 'completion_tokens': 62, 'total_tokens': 70}}"
            ]
          },
          "metadata": {},
          "execution_count": 11
        }
      ]
    }
  ]
}